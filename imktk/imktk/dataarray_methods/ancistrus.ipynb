{
 "cells": [
  {
   "cell_type": "code",
   "execution_count": 1,
   "id": "51a845af",
   "metadata": {},
   "outputs": [],
   "source": [
    "import numpy as np\n",
    "import pandas as pd\n",
    "import xarray as xr"
   ]
  },
  {
   "cell_type": "code",
   "execution_count": 2,
   "id": "15403e78",
   "metadata": {},
   "outputs": [],
   "source": [
    "def read_var(varname, filename):\n",
    "    with open(filename, 'r') as f:\n",
    "        data = f.readlines()\n",
    "    for (i,x) in enumerate(data):\n",
    "        if ' ' + varname in x: start = i\n",
    "                \n",
    "    end = i\n",
    "    for (i,x) in enumerate(data[start:]):\n",
    "        if not x.strip(): lenblock = i; break\n",
    "    var = pd.read_fwf(filename, header = None, squeeze = True, sep=' ',infer_nrows=lenblock, skiprows=start+1, nrows=lenblock)\n",
    "    return var"
   ]
  },
  {
   "cell_type": "code",
   "execution_count": 3,
   "id": "a0a341fe",
   "metadata": {},
   "outputs": [],
   "source": [
    "def to_xr(var):\n",
    "    var.to_xarray()"
   ]
  },
  {
   "cell_type": "code",
   "execution_count": 4,
   "id": "c5c44010",
   "metadata": {},
   "outputs": [],
   "source": [
    "filename = '/Users/tobias/Desktop/QBO Ancistrus/test10a.dat'"
   ]
  },
  {
   "cell_type": "code",
   "execution_count": 72,
   "id": "31afdbe4",
   "metadata": {},
   "outputs": [
    {
     "name": "stdout",
     "output_type": "stream",
     "text": [
      "900\n",
      "30 30\n"
     ]
    },
    {
     "data": {
      "text/plain": [
       "array([], dtype=float64)"
      ]
     },
     "execution_count": 72,
     "metadata": {},
     "output_type": "execute_result"
    }
   ],
   "source": [
    "varname = 'v_phi'\n",
    "var = read_var(varname, filename)\n",
    "varname = 'model altitude'\n",
    "alt = read_var(varname, filename)\n",
    "varname = 'model latitude'\n",
    "lat = read_var(varname, filename)\n",
    "\n",
    "latlist = lat.values.copy().ravel()\n",
    "altlist = alt.values.copy().ravel()\n",
    "varlist = var.values.ravel()\n",
    "varlist.resize(len(altlist),len(latlist))\n",
    "print(np.size(varlist))\n",
    "print(len(altlist),len(latlist))\n",
    "\n",
    "altlist[altlist==np.isfinite]"
   ]
  },
  {
   "cell_type": "code",
   "execution_count": 57,
   "id": "4ebf9462",
   "metadata": {},
   "outputs": [],
   "source": [
    "varlist = var.values.ravel()"
   ]
  },
  {
   "cell_type": "code",
   "execution_count": 58,
   "id": "32e6e5e3",
   "metadata": {},
   "outputs": [],
   "source": [
    "varlist.resize(len(altlist),len(latlist))"
   ]
  },
  {
   "cell_type": "code",
   "execution_count": 75,
   "id": "387b872e",
   "metadata": {},
   "outputs": [
    {
     "ename": "AttributeError",
     "evalue": "'numpy.ndarray' object has no attribute 'to_xarray'",
     "output_type": "error",
     "traceback": [
      "\u001b[0;31m---------------------------------------------------------------------------\u001b[0m",
      "\u001b[0;31mAttributeError\u001b[0m                            Traceback (most recent call last)",
      "Input \u001b[0;32mIn [75]\u001b[0m, in \u001b[0;36m<module>\u001b[0;34m\u001b[0m\n\u001b[0;32m----> 1\u001b[0m \u001b[38;5;28mprint\u001b[39m(\u001b[43mto_xr\u001b[49m\u001b[43m(\u001b[49m\u001b[43mvarlist\u001b[49m\u001b[43m)\u001b[49m)\n",
      "Input \u001b[0;32mIn [3]\u001b[0m, in \u001b[0;36mto_xr\u001b[0;34m(var)\u001b[0m\n\u001b[1;32m      1\u001b[0m \u001b[38;5;28;01mdef\u001b[39;00m \u001b[38;5;21mto_xr\u001b[39m(var):\n\u001b[0;32m----> 2\u001b[0m     \u001b[43mvar\u001b[49m\u001b[38;5;241;43m.\u001b[39;49m\u001b[43mto_xarray\u001b[49m()\n",
      "\u001b[0;31mAttributeError\u001b[0m: 'numpy.ndarray' object has no attribute 'to_xarray'"
     ]
    }
   ],
   "source": [
    "print(to_xr(varlist))"
   ]
  },
  {
   "cell_type": "code",
   "execution_count": null,
   "id": "02e1aa99",
   "metadata": {},
   "outputs": [],
   "source": [
    "data_set=xr.Dataset( coords={'alt': (['y', 'z'], alt),\n",
    "                    'lon': (['x', 'y'], lon),\n",
    "                    'time': pd.date_range('2014-09-06')}\n",
    "                    'v_phi': var)\n",
    "temp=np.array([[25, 24, 20, -12],[23, 21, 22, -11]])\n",
    "data_set[\"Temperature\"]=(['x', 'y', 'time'],  temp)"
   ]
  }
 ],
 "metadata": {
  "kernelspec": {
   "display_name": "Python 3 (ipykernel)",
   "language": "python",
   "name": "python3"
  },
  "language_info": {
   "codemirror_mode": {
    "name": "ipython",
    "version": 3
   },
   "file_extension": ".py",
   "mimetype": "text/x-python",
   "name": "python",
   "nbconvert_exporter": "python",
   "pygments_lexer": "ipython3",
   "version": "3.9.10"
  }
 },
 "nbformat": 4,
 "nbformat_minor": 5
}
